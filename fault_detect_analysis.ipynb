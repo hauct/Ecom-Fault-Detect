{
 "cells": [
  {
   "cell_type": "markdown",
   "metadata": {},
   "source": [
    "# **E-commerce Fault Detection**"
   ]
  },
  {
   "cell_type": "markdown",
   "metadata": {},
   "source": [
    "## Problems"
   ]
  },
  {
   "cell_type": "markdown",
   "metadata": {},
   "source": [
    "There is currently a promotional program offering a 30% discount on the total bill, up to a maximum of 20k. Some customers are colluding with sellers to exploit this program. The file `transaction_data.csv` contains customer transaction data:\n",
    "\n",
    "Please prepare a report answering the following questions:\n",
    "\n",
    "- What is the total bill range that has the highest number of transactions?\n",
    "- Who are the top three buyers likely involved in fraudulent activities and why?\n",
    "- Who are the top three sellers likely involved in fraudulent activities and why?"
   ]
  },
  {
   "cell_type": "markdown",
   "metadata": {},
   "source": [
    "## Answers"
   ]
  },
  {
   "cell_type": "code",
   "execution_count": 15,
   "metadata": {},
   "outputs": [],
   "source": [
    "import pandas as pd\n",
    "import seaborn as sns\n",
    "import matplotlib.pyplot as plt\n",
    "import sqldf"
   ]
  },
  {
   "cell_type": "markdown",
   "metadata": {},
   "source": [
    "### Data preperation"
   ]
  },
  {
   "cell_type": "code",
   "execution_count": 16,
   "metadata": {},
   "outputs": [
    {
     "data": {
      "text/html": [
       "<div>\n",
       "<style scoped>\n",
       "    .dataframe tbody tr th:only-of-type {\n",
       "        vertical-align: middle;\n",
       "    }\n",
       "\n",
       "    .dataframe tbody tr th {\n",
       "        vertical-align: top;\n",
       "    }\n",
       "\n",
       "    .dataframe thead th {\n",
       "        text-align: right;\n",
       "    }\n",
       "</style>\n",
       "<table border=\"1\" class=\"dataframe\">\n",
       "  <thead>\n",
       "    <tr style=\"text-align: right;\">\n",
       "      <th></th>\n",
       "      <th>txn_time</th>\n",
       "      <th>txn_date</th>\n",
       "      <th>order_id</th>\n",
       "      <th>uid</th>\n",
       "      <th>shop_id</th>\n",
       "      <th>shop_owner_uid</th>\n",
       "      <th>gmv</th>\n",
       "      <th>rebate</th>\n",
       "    </tr>\n",
       "  </thead>\n",
       "  <tbody>\n",
       "    <tr>\n",
       "      <th>0</th>\n",
       "      <td>2019-10-30 13:37:00</td>\n",
       "      <td>2019-10-30</td>\n",
       "      <td>142008725</td>\n",
       "      <td>102161515</td>\n",
       "      <td>1005</td>\n",
       "      <td>100054430</td>\n",
       "      <td>70000</td>\n",
       "      <td>20000</td>\n",
       "    </tr>\n",
       "    <tr>\n",
       "      <th>1</th>\n",
       "      <td>2019-10-30 20:26:00</td>\n",
       "      <td>2019-10-30</td>\n",
       "      <td>142119377</td>\n",
       "      <td>102867263</td>\n",
       "      <td>10050</td>\n",
       "      <td>1792841</td>\n",
       "      <td>80000</td>\n",
       "      <td>20000</td>\n",
       "    </tr>\n",
       "    <tr>\n",
       "      <th>2</th>\n",
       "      <td>2019-10-30 12:22:00</td>\n",
       "      <td>2019-10-30</td>\n",
       "      <td>141986418</td>\n",
       "      <td>100401383</td>\n",
       "      <td>10075</td>\n",
       "      <td>100155720</td>\n",
       "      <td>125000</td>\n",
       "      <td>20000</td>\n",
       "    </tr>\n",
       "    <tr>\n",
       "      <th>3</th>\n",
       "      <td>2019-10-30 09:46:00</td>\n",
       "      <td>2019-10-30</td>\n",
       "      <td>141941958</td>\n",
       "      <td>103213155</td>\n",
       "      <td>10088</td>\n",
       "      <td>103894677</td>\n",
       "      <td>82000</td>\n",
       "      <td>20000</td>\n",
       "    </tr>\n",
       "    <tr>\n",
       "      <th>4</th>\n",
       "      <td>2019-10-30 21:56:00</td>\n",
       "      <td>2019-10-30</td>\n",
       "      <td>142139275</td>\n",
       "      <td>101003290</td>\n",
       "      <td>10142</td>\n",
       "      <td>103909421</td>\n",
       "      <td>260000</td>\n",
       "      <td>20000</td>\n",
       "    </tr>\n",
       "  </tbody>\n",
       "</table>\n",
       "</div>"
      ],
      "text/plain": [
       "             txn_time   txn_date   order_id        uid shop_id shop_owner_uid  \\\n",
       "0 2019-10-30 13:37:00 2019-10-30  142008725  102161515    1005      100054430   \n",
       "1 2019-10-30 20:26:00 2019-10-30  142119377  102867263   10050        1792841   \n",
       "2 2019-10-30 12:22:00 2019-10-30  141986418  100401383   10075      100155720   \n",
       "3 2019-10-30 09:46:00 2019-10-30  141941958  103213155   10088      103894677   \n",
       "4 2019-10-30 21:56:00 2019-10-30  142139275  101003290   10142      103909421   \n",
       "\n",
       "      gmv  rebate  \n",
       "0   70000   20000  \n",
       "1   80000   20000  \n",
       "2  125000   20000  \n",
       "3   82000   20000  \n",
       "4  260000   20000  "
      ]
     },
     "execution_count": 16,
     "metadata": {},
     "output_type": "execute_result"
    }
   ],
   "source": [
    "# Read and process data\n",
    "df = pd.read_csv('transaction_data.csv')\n",
    "\n",
    "## Convert to datetime on time columns\n",
    "df['txn_time'] = pd.to_datetime(df['txn_time'])\n",
    "df['txn_date'] = pd.to_datetime(df['txn_date'])\n",
    "\n",
    "## Convert to string on Categorical columns\n",
    "df['order_id'] = df['order_id'].astype('str')\n",
    "df['uid'] = df['uid'].astype('str')\n",
    "df['shop_id'] = df['shop_id'].astype('str')\n",
    "df['shop_owner_uid'] = df['shop_owner_uid'].astype('str')\n",
    "\n",
    "df.head()"
   ]
  },
  {
   "cell_type": "markdown",
   "metadata": {},
   "source": [
    "### Q1. What is the total bill range that has the highest number of transactions?"
   ]
  },
  {
   "cell_type": "code",
   "execution_count": 17,
   "metadata": {},
   "outputs": [
    {
     "name": "stderr",
     "output_type": "stream",
     "text": [
      "c:\\Users\\LAP14761-local\\anaconda3\\Lib\\site-packages\\seaborn\\_oldcore.py:1498: FutureWarning: is_categorical_dtype is deprecated and will be removed in a future version. Use isinstance(dtype, CategoricalDtype) instead\n",
      "  if pd.api.types.is_categorical_dtype(vector):\n",
      "c:\\Users\\LAP14761-local\\anaconda3\\Lib\\site-packages\\seaborn\\_oldcore.py:1119: FutureWarning: use_inf_as_na option is deprecated and will be removed in a future version. Convert inf values to NaN before operating instead.\n",
      "  with pd.option_context('mode.use_inf_as_na', True):\n"
     ]
    },
    {
     "data": {
      "image/png": "[encoded data removed]",
      "text/plain": [
       "<Figure size 600x300 with 1 Axes>"
      ]
     },
     "metadata": {},
     "output_type": "display_data"
    }
   ],
   "source": [
    "# Plotting the graph\n",
    "fig, ax = plt.subplots(figsize=(6,3))\n",
    "\n",
    "ax = sns.histplot(data=df, x=df.gmv, kde=True)\n",
    "plt.xlim(0, 500000)\n",
    "\n",
    "# Adding a title\n",
    "ax.set_title('Distribution of Gross Merchandise Value')\n",
    "\n",
    "# Finding the x value with the highest number of orders\n",
    "max_value = df.gmv.value_counts().sort_values(ascending=False).index[0]\n",
    "\n",
    "# Drawing a vertical line\n",
    "ax.axvline(x=max_value, color='r', linestyle='dashed', label='Maximum Order Quantity')\n",
    "\n",
    "# Displaying the x value at the line position\n",
    "ax.annotate(f'x = {max_value}', (max_value, df.gmv.value_counts().sort_values(ascending=False).max()))\n",
    "\n",
    "plt.show()"
   ]
  },
  {
   "cell_type": "markdown",
   "metadata": {},
   "source": [
    "Based on the data set, the Gross Merchandise Value (GMV) of `70,000` has the highest number of orders placed.\n",
    "\n",
    "\n",
    "\n",
    "\n"
   ]
  },
  {
   "cell_type": "markdown",
   "metadata": {},
   "source": [
    "### Q2: Who are the top three buyers likely involved in fraudulent activities and why?"
   ]
  },
  {
   "cell_type": "markdown",
   "metadata": {},
   "source": [
    "In Vietnam, the smallest current currency unit is 1,000 VND. Therefore, any user IDs (uid) with a Gross Merchandise Value (GMV) less than 1,000, meaning a total spend less than 1,000 VND, are considered unreasonable. Such customers could potentially be labeled as ‘fault’ customers."
   ]
  },
  {
   "cell_type": "code",
   "execution_count": 18,
   "metadata": {},
   "outputs": [
    {
     "data": {
      "text/html": [
       "<div>\n",
       "<style scoped>\n",
       "    .dataframe tbody tr th:only-of-type {\n",
       "        vertical-align: middle;\n",
       "    }\n",
       "\n",
       "    .dataframe tbody tr th {\n",
       "        vertical-align: top;\n",
       "    }\n",
       "\n",
       "    .dataframe thead th {\n",
       "        text-align: right;\n",
       "    }\n",
       "</style>\n",
       "<table border=\"1\" class=\"dataframe\">\n",
       "  <thead>\n",
       "    <tr style=\"text-align: right;\">\n",
       "      <th></th>\n",
       "      <th>uid</th>\n",
       "      <th>num_order_id</th>\n",
       "    </tr>\n",
       "  </thead>\n",
       "  <tbody>\n",
       "    <tr>\n",
       "      <th>0</th>\n",
       "      <td>100605978</td>\n",
       "      <td>19</td>\n",
       "    </tr>\n",
       "    <tr>\n",
       "      <th>1</th>\n",
       "      <td>1026737</td>\n",
       "      <td>15</td>\n",
       "    </tr>\n",
       "    <tr>\n",
       "      <th>2</th>\n",
       "      <td>100205391</td>\n",
       "      <td>14</td>\n",
       "    </tr>\n",
       "    <tr>\n",
       "      <th>3</th>\n",
       "      <td>101065061</td>\n",
       "      <td>6</td>\n",
       "    </tr>\n",
       "    <tr>\n",
       "      <th>4</th>\n",
       "      <td>100614916</td>\n",
       "      <td>6</td>\n",
       "    </tr>\n",
       "  </tbody>\n",
       "</table>\n",
       "</div>"
      ],
      "text/plain": [
       "         uid  num_order_id\n",
       "0  100605978            19\n",
       "1    1026737            15\n",
       "2  100205391            14\n",
       "3  101065061             6\n",
       "4  100614916             6"
      ]
     },
     "execution_count": 18,
     "metadata": {},
     "output_type": "execute_result"
    }
   ],
   "source": [
    "fault_buyer_query = \"\"\"\n",
    "SELECT uid, count(order_id) as num_order_id\n",
    "FROM df\n",
    "WHERE gmv < 1000\n",
    "GROUP BY uid\n",
    "ORDER BY num_order_id DESC\n",
    "\"\"\"\n",
    "\n",
    "# Run the query\n",
    "fault_buyer = sqldf.run(fault_buyer_query)\n",
    "fault_buyer.head()"
   ]
  },
  {
   "cell_type": "markdown",
   "metadata": {},
   "source": [
    "Based on the number of orders placed by these types of customers, the top three ‘fault’ customers with the highest number of orders can be identified as `100605978`, `1026737`, and `100205391`."
   ]
  },
  {
   "cell_type": "markdown",
   "metadata": {},
   "source": [
    "### Q3: Who are the top three seller likely involved in fraudulent activities and why?"
   ]
  },
  {
   "cell_type": "markdown",
   "metadata": {},
   "source": [
    "The idea here is to extract the shop_id and order_id with the highest frequency of GMV less than 1000."
   ]
  },
  {
   "cell_type": "code",
   "execution_count": 33,
   "metadata": {},
   "outputs": [
    {
     "data": {
      "text/html": [
       "<div>\n",
       "<style scoped>\n",
       "    .dataframe tbody tr th:only-of-type {\n",
       "        vertical-align: middle;\n",
       "    }\n",
       "\n",
       "    .dataframe tbody tr th {\n",
       "        vertical-align: top;\n",
       "    }\n",
       "\n",
       "    .dataframe thead th {\n",
       "        text-align: right;\n",
       "    }\n",
       "</style>\n",
       "<table border=\"1\" class=\"dataframe\">\n",
       "  <thead>\n",
       "    <tr style=\"text-align: right;\">\n",
       "      <th></th>\n",
       "      <th>shop_id</th>\n",
       "      <th>num_order</th>\n",
       "    </tr>\n",
       "  </thead>\n",
       "  <tbody>\n",
       "    <tr>\n",
       "      <th>0</th>\n",
       "      <td>30140</td>\n",
       "      <td>4</td>\n",
       "    </tr>\n",
       "    <tr>\n",
       "      <th>1</th>\n",
       "      <td>30185</td>\n",
       "      <td>3</td>\n",
       "    </tr>\n",
       "    <tr>\n",
       "      <th>2</th>\n",
       "      <td>30148</td>\n",
       "      <td>3</td>\n",
       "    </tr>\n",
       "    <tr>\n",
       "      <th>3</th>\n",
       "      <td>8947</td>\n",
       "      <td>2</td>\n",
       "    </tr>\n",
       "    <tr>\n",
       "      <th>4</th>\n",
       "      <td>30223</td>\n",
       "      <td>2</td>\n",
       "    </tr>\n",
       "  </tbody>\n",
       "</table>\n",
       "</div>"
      ],
      "text/plain": [
       "  shop_id  num_order\n",
       "0   30140          4\n",
       "1   30185          3\n",
       "2   30148          3\n",
       "3    8947          2\n",
       "4   30223          2"
      ]
     },
     "execution_count": 33,
     "metadata": {},
     "output_type": "execute_result"
    }
   ],
   "source": [
    "query_1 = \"\"\"\n",
    "SELECT shop_id, order_id\n",
    "FROM df\n",
    "WHERE gmv < 1000\n",
    "\"\"\"\n",
    "\n",
    "# Run the query\n",
    "df_query_1 = sqldf.run(query_1)\n",
    "\n",
    "query_2 = \"\"\"\n",
    "SELECT shop_id, count(order_id) as num_order\n",
    "FROM df_query_1\n",
    "ORDER BY num_order DESC\n",
    "\"\"\"\n",
    "\n",
    "# Run the query\n",
    "df_query_2 = sqldf.run(query_2)\n"
   ]
  },
  {
   "cell_type": "markdown",
   "metadata": {},
   "source": [
    "Based on the results, we identify three shops that are potentially faulty: `30140`, `30185`, and `30148`."
   ]
  }
 ],
 "metadata": {
  "kernelspec": {
   "display_name": "base",
   "language": "python",
   "name": "python3"
  },
  "language_info": {
   "codemirror_mode": {
    "name": "ipython",
    "version": 3
   },
   "file_extension": ".py",
   "mimetype": "text/x-python",
   "name": "python",
   "nbconvert_exporter": "python",
   "pygments_lexer": "ipython3",
   "version": "3.11.5"
  }
 },
 "nbformat": 4,
 "nbformat_minor": 2
}
